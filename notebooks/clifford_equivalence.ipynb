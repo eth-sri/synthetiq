{
 "cells": [
  {
   "cell_type": "markdown",
   "metadata": {},
   "source": [
    "# Permutation generation\n",
    "In this notebook, we show how the 30 3-qubit operators from our paper were constructed in a way to ensure that all 3-qubit permutations are Clifford equivalent with these 30.\n",
    "\n",
    "## Imports and setup"
   ]
  },
  {
   "cell_type": "code",
   "execution_count": null,
   "metadata": {},
   "outputs": [],
   "source": [
    "import numpy as np\n",
    "import itertools\n",
    "from qiskit.quantum_info import Pauli\n",
    "from tqdm import tqdm"
   ]
  },
  {
   "cell_type": "code",
   "execution_count": null,
   "metadata": {},
   "outputs": [],
   "source": [
    "n_qubits = 3\n",
    "output_folder = \"data/input/64/permutations/\""
   ]
  },
  {
   "cell_type": "markdown",
   "metadata": {},
   "source": [
    "## Generating the Puali matrices"
   ]
  },
  {
   "cell_type": "code",
   "execution_count": null,
   "metadata": {},
   "outputs": [],
   "source": [
    "def generate_paulis():\n",
    "    \"\"\"\n",
    "    Generate all possible Pauli matrices for a given number of qubits.\n",
    "    \n",
    "    Returns:\n",
    "        numpy.ndarray: Array of Pauli matrices.\n",
    "    \"\"\"\n",
    "    matrices = []\n",
    "    for combination in itertools.product([\"I\", \"X\", \"Y\", \"Z\"], repeat=n_qubits):\n",
    "        matrices.append(Pauli(\"\".join(combination)).to_matrix())\n",
    "    \n",
    "    return np.array(matrices)\n",
    "\n",
    "paulis = generate_paulis()"
   ]
  },
  {
   "cell_type": "markdown",
   "metadata": {},
   "source": [
    "## Defining useful functions"
   ]
  },
  {
   "cell_type": "code",
   "execution_count": null,
   "metadata": {},
   "outputs": [],
   "source": [
    "def check_clifford(permutation_matrix, paulis, epsilon=1e-8):\n",
    "    \"\"\"\n",
    "    Check if a permutation matrix satisfies the Clifford equivalence condition for a set of Pauli matrices.\n",
    "\n",
    "    Parameters:\n",
    "        permutation_matrix (numpy.ndarray): The permutation matrix to be checked.\n",
    "        paulis (list[numpy.ndarray]): The list of Pauli matrices.\n",
    "        epsilon (float, optional): The tolerance value for numerical comparisons. Defaults to 1e-8.\n",
    "\n",
    "    Returns:\n",
    "        bool: True if the permutation matrix satisfies the Clifford equivalence condition, False otherwise.\n",
    "    \"\"\"\n",
    "    computed_all = np.conjugate(np.matmul(np.matmul(permutation_matrix, paulis), permutation_matrix.T))\n",
    "    for i in range(len(paulis)):\n",
    "        norms = np.array([np.abs(np.trace(np.matmul(pauli, computed_all[i]))) for pauli in paulis])\n",
    "        if np.all(norms < 2 ** n_qubits - epsilon):\n",
    "            return False\n",
    "        \n",
    "    return True\n",
    "\n",
    "def do_permutation(permutation):\n",
    "    \"\"\"\n",
    "    Apply a permutation to the identity matrix and return the resulting matrix.\n",
    "\n",
    "    Args:\n",
    "        permutation (list): A list representing the permutation.\n",
    "\n",
    "    Returns:\n",
    "        numpy.ndarray: The matrix obtained by applying the permutation to the identity matrix.\n",
    "    \"\"\"\n",
    "    matrix = np.identity(len(permutation))\n",
    "    perm_matrix = [[] for i in range(len(permutation))]\n",
    "    for i, perm in enumerate(permutation):\n",
    "        perm_matrix[i] = matrix[perm]\n",
    "\n",
    "    return np.array(perm_matrix)"
   ]
  },
  {
   "cell_type": "markdown",
   "metadata": {},
   "source": [
    "### Generating the operators by looping over all possible permutations"
   ]
  },
  {
   "cell_type": "markdown",
   "metadata": {},
   "source": [
    "Note that this will take approximately one hour, since there are 40000 possible permutations."
   ]
  },
  {
   "cell_type": "code",
   "execution_count": null,
   "metadata": {},
   "outputs": [],
   "source": [
    "identity = np.identity(2 ** n_qubits)\n",
    "unique_matrices = []\n",
    "pbar = tqdm(itertools.permutations(identity))\n",
    "for i, permutation in enumerate(pbar):\n",
    "    to_add = True\n",
    "    for other_matrix in unique_matrices:\n",
    "        if check_clifford(np.matmul(np.array(permutation), other_matrix.T), paulis):\n",
    "            to_add = False\n",
    "            break\n",
    "    \n",
    "    if to_add:\n",
    "        unique_matrices.append(np.array(permutation))\n",
    "        pbar.set_description_str(str(len(unique_matrices)))"
   ]
  },
  {
   "cell_type": "markdown",
   "metadata": {},
   "source": [
    "### Add the operators to the output folder"
   ]
  },
  {
   "cell_type": "code",
   "execution_count": null,
   "metadata": {},
   "outputs": [],
   "source": [
    "for i, matrix in  enumerate(unique_matrices):\n",
    "    with open(output_folder + f\"{i}.txt\", \"w\") as f:\n",
    "        f.write(\"matrix\\n\")\n",
    "        f.write(f\"{n_qubits}\\n\")\n",
    "\n",
    "        for line in matrix:\n",
    "            f.write(\" \".join([f\"({n},0)\" for n in line.astype(np.int32)]))\n",
    "            f.write(\"\\n\")\n",
    "        \n",
    "        for j in range(len(matrix)):\n",
    "            f.write(\" \".join([\"1\" for _ in range(len(matrix))]))\n",
    "            if j != len(matrix) - 1:\n",
    "                f.write(\"\\n\")"
   ]
  }
 ],
 "metadata": {
  "kernelspec": {
   "display_name": "quantum",
   "language": "python",
   "name": "python3"
  },
  "language_info": {
   "codemirror_mode": {
    "name": "ipython",
    "version": 3
   },
   "file_extension": ".py",
   "mimetype": "text/x-python",
   "name": "python",
   "nbconvert_exporter": "python",
   "pygments_lexer": "ipython3",
   "version": "3.10.13"
  }
 },
 "nbformat": 4,
 "nbformat_minor": 2
}
