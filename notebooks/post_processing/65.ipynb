{
 "cells": [
  {
   "cell_type": "markdown",
   "metadata": {},
   "source": [
    "## Results Section 6.5: Approximate Circuit Synthesis\n",
    "We present the results for Section 6.5. Specifically, we reproduce table 7 here.\n",
    "\n",
    "### Imports and setup"
   ]
  },
  {
   "cell_type": "code",
   "execution_count": null,
   "metadata": {},
   "outputs": [],
   "source": [
    "import pandas as pd \n",
    "from analyzer import main_analysis\n",
    "import os\n",
    "\n",
    "source_file = \"../../data/times.csv\"\n",
    "source_file_optimization = \"../../data/optimization.csv\"\n",
    "source_output = '../../data/output'\n",
    "output_folder = \"../../data/paper\"\n",
    "gheorghiu_data_path = '../../data/baselines/gheorgiu'"
   ]
  },
  {
   "cell_type": "markdown",
   "metadata": {},
   "source": [
    "### Helper functions"
   ]
  },
  {
   "cell_type": "code",
   "execution_count": null,
   "metadata": {},
   "outputs": [],
   "source": [
    "def extract_results_baseline_epsilon(file):\n",
    "    \"\"\"\n",
    "    Extracts results from a file and returns them as a pandas DataFrame.\n",
    "\n",
    "    Parameters:\n",
    "    file (str): The path to the file containing the results.\n",
    "\n",
    "    Returns:\n",
    "    pandas.DataFrame: A DataFrame containing the extracted results with columns: \"name\", \"epsilon\", \"time\", \"t_count\".\n",
    "    \"\"\"\n",
    "\n",
    "    new_lines = []\n",
    "    with open(file, \"r\") as f:\n",
    "        current_time = 0\n",
    "        start_time = False\n",
    "        for line in f.readlines():\n",
    "            if \".txt\" in line or line.startswith(\"#### T-count:\"):\n",
    "                if start_time:\n",
    "                    new_lines.append(f\"Took: {current_time}\\n\")\n",
    "                new_lines.append(line)\n",
    "                start_time = False\n",
    "                current_time = 0\n",
    "            elif line.startswith(\"Took: \"):\n",
    "                current_time += int(line.split(\" \")[1])\n",
    "                start_time = True\n",
    "\n",
    "    results = []\n",
    "    for i in range(0, len(new_lines), 3):\n",
    "        name = new_lines[i].split('_')[0]\n",
    "        if name == 'rzk':\n",
    "            name = 'rz'\n",
    "        if name == 'crzk':\n",
    "            name = 'crz'\n",
    "        k_value = new_lines[i].split('_')[1]\n",
    "        epsilon = float(new_lines[i].split('_')[2][:-5])\n",
    "        ms = int(new_lines[i+1][5:-1])\n",
    "        try:\n",
    "            t_count = int(new_lines[i+2][13:-6])\n",
    "        except ValueError:\n",
    "            t_count = None\n",
    "\n",
    "        results.append((name + '_' + k_value, epsilon, ms / 1000, t_count))\n",
    "\n",
    "    dataframe = pd.DataFrame(results, columns=[\"name\", \"epsilon\", \"time\", \"t_count\"])\n",
    "    return dataframe"
   ]
  },
  {
   "cell_type": "markdown",
   "metadata": {},
   "source": [
    "### Table 7"
   ]
  },
  {
   "cell_type": "code",
   "execution_count": null,
   "metadata": {},
   "outputs": [],
   "source": [
    "results = []\n",
    "df = pd.read_csv(source_file, sep='\\t', header=None)\n",
    "df.columns = ['filename', 'time', 'std', 'n_runs', 'successful_runs', 'optimal_runs']\n",
    "baseline_results = extract_results_baseline_epsilon(os.path.join(gheorghiu_data_path, 'epsilon.txt'))\n",
    "os.makedirs(os.path.join(output_folder, '65'), exist_ok=True)\n",
    "for folder in os.listdir(os.path.join(source_output, '65')):\n",
    "    for subfolder in os.listdir(os.path.join(source_output, '65', folder)):\n",
    "        output = dict()\n",
    "        full_folder = os.path.join(source_output, '65', folder, subfolder)\n",
    "        # search in df for the time\n",
    "        element = df[df['filename'] == full_folder[6:] + '/'].to_dict('records')[0]\n",
    "        _, t_count, _, _, best_t_depth_circ, _ = main_analysis(full_folder)\n",
    "        output['name'] = subfolder\n",
    "        output['epsilon'] = {'005': 0.05, '10_2': 0.01, '10_3': 0.001}[folder]\n",
    "        baseline_element = baseline_results[(baseline_results['name'] == subfolder) & (baseline_results['epsilon'] == output['epsilon'])]\n",
    "        if len(baseline_element) == 0:\n",
    "            output['baseline_time'] = None\n",
    "            output['baseline_tcount'] = None\n",
    "        else:\n",
    "            output['baseline_time'] = baseline_element['time'].values[0]\n",
    "            output['baseline_tcount'] = baseline_element['t_count'].values[0]\n",
    "        if len(t_count) == 0:\n",
    "            output['time'] = None\n",
    "            output['tcount'] = None\n",
    "        else:\n",
    "            min_t_count = min(t_count)\n",
    "            number_min_t_count = len(t_count[t_count == min_t_count])\n",
    "            if element['successful_runs'] >= 100:\n",
    "                output['time'] = float(element['time'] * element['successful_runs'] / number_min_t_count)\n",
    "            else:\n",
    "                output['time'] = float(3600 / number_min_t_count)\n",
    "            output['tcount'] = min_t_count\n",
    "            if output['baseline_time'] is not None and output['time'] is not None:\n",
    "                output['speedup'] = output['baseline_time'] / output['time']\n",
    "\n",
    "            best_t_depth_circ.circuit.qasm(formatted=True, filename=os.path.join(output_folder, '65', f'{subfolder}_{str(output[\"epsilon\"])}.qasm'))\n",
    "\n",
    "        results.append(output)\n",
    "results = pd.DataFrame(results)\n",
    "results.to_csv(os.path.join(output_folder, '65', 'table7.csv'), index=False)"
   ]
  }
 ],
 "metadata": {
  "kernelspec": {
   "display_name": "quantum",
   "language": "python",
   "name": "python3"
  },
  "language_info": {
   "codemirror_mode": {
    "name": "ipython",
    "version": 3
   },
   "file_extension": ".py",
   "mimetype": "text/x-python",
   "name": "python",
   "nbconvert_exporter": "python",
   "pygments_lexer": "ipython3",
   "version": "3.10.13"
  }
 },
 "nbformat": 4,
 "nbformat_minor": 2
}
