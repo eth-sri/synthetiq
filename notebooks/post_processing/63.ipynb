{
 "cells": [
  {
   "cell_type": "markdown",
   "metadata": {},
   "source": [
    "## Results Section 6.3: Custom Gates\n",
    "In this notebook, we outline the post-processing procedure for Section 6.2. Specifically, we reproduce the results from Figure 3 and Table 5.\n",
    "\n",
    "### Imports and setup"
   ]
  },
  {
   "cell_type": "code",
   "execution_count": null,
   "metadata": {},
   "outputs": [],
   "source": [
    "import pandas as pd \n",
    "import numpy as np\n",
    "import seaborn as sns\n",
    "import matplotlib.pyplot as plt\n",
    "from analyzer import main_analysis\n",
    "import os"
   ]
  },
  {
   "cell_type": "code",
   "execution_count": null,
   "metadata": {},
   "outputs": [],
   "source": [
    "source_file = \"../../data/times.csv\"\n",
    "source_output = '../../data/output'\n",
    "output_folder = \"../../data/paper\"\n",
    "output_folder_qsyn = \"../../qsyn/output\"\n",
    "\n",
    "\n",
    "# We manually define the Kang counts for the circuits, since parsing them automatically is very difficult\n",
    "kang_counts = {\n",
    "    'bit_measure': 0,\n",
    "    'cluster': 13,\n",
    "    'draper': 5,\n",
    "    'flip': 6,\n",
    "    'GHZ_by_iSWAP': 8,\n",
    "    'GHZ_by_QFT': 7,\n",
    "    'GHZ_from_100': 6,\n",
    "    'GHZ_Game': 8,\n",
    "    'indexed_bell': 4,\n",
    "    'M_valued': 7,\n",
    "    'QFT': 7,\n",
    "    'teleportation': 4,\n",
    "    'three_superpose': 3,\n",
    "    'toffoli_by_sqrt_X': 5,\n",
    "    'W_four': 7,\n",
    "    'W_orthog': 8,\n",
    "    'W_phased': 7,\n",
    "    '1': 0,\n",
    "    '2': 0,\n",
    "    '3': 0,\n",
    "    '4': 0,\n",
    "    '5': 0,\n",
    "}"
   ]
  },
  {
   "cell_type": "markdown",
   "metadata": {},
   "source": [
    "### Figure 3\n",
    "\n",
    "Loading the data"
   ]
  },
  {
   "cell_type": "code",
   "execution_count": null,
   "metadata": {},
   "outputs": [],
   "source": [
    "# Synthetiq data\n",
    "df = pd.read_csv(source_file, sep='\\t', header=None)\n",
    "df.columns = ['filename', 'time', 'std', 'n_runs', 'successful_runs', 'optimal_runs']\n",
    "synthetiq = df.copy()\n",
    "synthetiq = synthetiq[synthetiq[\"filename\"].str.startswith(\"data/output/63/theirs/\")]\n",
    "synthetiq = synthetiq[np.logical_not(synthetiq[\"filename\"].str.contains(\"count\"))]\n",
    "synthetiq['benchmark'] = synthetiq[\"filename\"].apply(lambda x: x.split(\"/\")[4])\n",
    "should_add = synthetiq[\"optimal_runs\"] < 100\n",
    "synthetiq[\"time\"] = synthetiq[\"time\"] + should_add * (10800 / synthetiq[\"optimal_runs\"] - synthetiq[\"time\"])\n",
    "synthetiq['num_gates'] = 0\n",
    "\n",
    "for benchmark in synthetiq['filename']:\n",
    "    benchmark_name = benchmark.replace(\"data/output/\", \"\")\n",
    "    min_num_gates = 100000000\n",
    "    for file in os.listdir(os.path.join(source_output, benchmark_name)):\n",
    "        # get the amount of non-empty lines in the file\n",
    "        with open(os.path.join(source_output, benchmark_name, file)) as f:\n",
    "            num_gates = sum(1 for line in f if line.strip()) - 3 # -3 because of the header\n",
    "        min_num_gates = min(min_num_gates, num_gates)\n",
    "    synthetiq.loc[synthetiq['filename'] == benchmark, 'num_gates'] = min_num_gates\n"
   ]
  },
  {
   "cell_type": "code",
   "execution_count": null,
   "metadata": {},
   "outputs": [],
   "source": [
    "# loading the times for Kang and Oh\n",
    "kang_data = []\n",
    "for benchmark in synthetiq['benchmark']:\n",
    "    if not os.path.exists(os.path.join(output_folder_qsyn, benchmark + '.txt')):\n",
    "        continue\n",
    "    with open(os.path.join(output_folder_qsyn, benchmark + '.txt')) as f:\n",
    "        raw_output = f.read()\n",
    "        failure = ''\n",
    "        if 'Elapsed Time :' in raw_output:\n",
    "            time = float(raw_output.split('Elapsed Time :')[1].split('\\n')[0])\n",
    "            num_gates = kang_counts[benchmark]\n",
    "        elif 'TIMEOUT' in raw_output:\n",
    "            failure = 'T/O'\n",
    "            time = 24 * 3600\n",
    "            num_gates = 0\n",
    "        else:\n",
    "            failure = 'N/A'\n",
    "            time = 24 * 3600\n",
    "            num_gates = 0\n",
    "        kang_data.append({\n",
    "            'benchmark': benchmark,\n",
    "            'time': time,\n",
    "            'num_gates': num_gates,\n",
    "            'failure': failure\n",
    "        })\n",
    "kang = pd.DataFrame(kang_data)\n",
    "kang"
   ]
  },
  {
   "cell_type": "markdown",
   "metadata": {},
   "source": [
    "We order the benchmarks in an esthetically pleasing manner"
   ]
  },
  {
   "cell_type": "code",
   "execution_count": null,
   "metadata": {},
   "outputs": [],
   "source": [
    "benchmarks = kang['benchmark'].unique()\n",
    "# change the order of the benchmarks list to follow the order of (kang['num_gates'], synthetiq['num_gates'])\n",
    "zero_to_high = lambda x: 1000 if x == 0 else x\n",
    "benchmarks = sorted(benchmarks, key=lambda x: (zero_to_high(kang[kang['benchmark'] == x]['num_gates'].values[0]), \n",
    "                                                synthetiq[synthetiq['benchmark'] == x]['num_gates'].values[0]))\n",
    "synthetiq = synthetiq.set_index('benchmark').loc[benchmarks].reset_index()\n",
    "kang = kang.set_index('benchmark').loc[benchmarks].reset_index()\n",
    "\n",
    "renames = {\n",
    "        '1': 'CX',\n",
    "        '2': 'sqrt_SWAP',\n",
    "        '3': 'Permutation',\n",
    "        '4': 'sqrt_iSWAP',\n",
    "        '5': 'Oracle',\n",
    "}\n",
    "synthetiq['benchmark'] = synthetiq['benchmark'].apply(lambda x: renames.get(x, x))\n",
    "kang['benchmark'] = kang['benchmark'].apply(lambda x: renames.get(x, x))"
   ]
  },
  {
   "cell_type": "markdown",
   "metadata": {},
   "source": [
    "### Plot figure 3"
   ]
  },
  {
   "cell_type": "code",
   "execution_count": null,
   "metadata": {},
   "outputs": [],
   "source": [
    "speedups = np.array(kang[\"time\"]) / np.array(synthetiq[\"time\"])\n",
    "speedups = [speedup for i, speedup in enumerate(speedups) if kang[\"failure\"][i] == '']\n",
    "fig, ax = plt.subplots(figsize=(12, 5), ncols=2, width_ratios=[5, 1])\n",
    "current_palette = sns.color_palette(\"Dark2\", 2)\n",
    "sns.boxplot(speedups, width=0.8, color=current_palette[0], ax=ax[1])\n",
    "ax[1].set_yscale('log')\n",
    "ax[1].set_xticklabels([])\n",
    "ax[1].set_xticks([])\n",
    "ax[1].set_title(\"Speedup\")\n",
    "# make the lines surrounding the plot disappear\n",
    "sns.despine(left=True, bottom=True)\n",
    "#make the background grey\n",
    "ax[1].set_facecolor((0.95, 0.95, 0.95))\n",
    "# make the title to the left\n",
    "ax[1].title.set(x=0.05)\n",
    "# background color very light grey\n",
    "ax[0].set_facecolor((0.95, 0.95, 0.95))\n",
    "ax[0].title.set(x=0)\n",
    "ax[0].set_title(\"Gate Count\")\n",
    "sns.despine(left=True, bottom=True)\n",
    "\n",
    "data = pd.DataFrame({'Source': ['Synthetiq' for i in range(len(synthetiq))] + ['Kang et al.' for i in range(len(kang))],\n",
    "                    'count': np.concatenate([synthetiq['num_gates'], kang['num_gates']]), \n",
    "                    'label': np.concatenate([benchmarks, benchmarks])}\n",
    ")\n",
    "\n",
    "sns.set_palette(current_palette)\n",
    "sns.barplot(data=data, y=\"count\", x=\"label\", hue=\"Source\", edgecolor=(0.95, 0.95, 0.95), linewidth=0, ax=ax[0])\n",
    "\n",
    "# rotate the xticks 45 degrees, making sure that they still appear under the barplots at the bottom\n",
    "ax[0].set_xticklabels(ax[0].get_xticklabels(), rotation=45, ha='right', fontsize=12)\n",
    "\n",
    "ax[0].set_ylabel(\"\")\n",
    "ax[0].set_xlabel(\"\")\n",
    "ax[0].set_xlim(-0.5, 21.5)\n",
    "ax[0].xaxis.labelpad = 20\n",
    "ax[0].text(16.05, 2.7, \"T/O\", rotation=90, fontsize=11, color=current_palette[1], weight=\"bold\")\n",
    "ax[0].text(17.05, 4.2, \"N/A\", rotation=90, fontsize=11, color=current_palette[1], weight=\"bold\")\n",
    "ax[0].text(18.05, 4.2, \"N/A\", rotation=90, fontsize=11, color=current_palette[1], weight=\"bold\")\n",
    "ax[0].text(19.05, 6.2, \"T/O\", rotation=90, fontsize=11, color=current_palette[1], weight=\"bold\")\n",
    "ax[0].text(20.05, 6.7, \"N/A\", rotation=90, fontsize=11, color=current_palette[1], weight=\"bold\")\n",
    "ax[0].text(21.05, 9.2, \"T/O\", rotation=90, fontsize=11, color=current_palette[1], weight=\"bold\")\n",
    "# set title font size\n",
    "ax[0].title.set_fontsize(16)\n",
    "ax[0].tick_params(axis='y', labelsize=16)\n",
    "# set the legend font size\n",
    "ax[0].legend(fontsize=16)\n",
    "ax[1].title.set_fontsize(16)\n",
    "\n",
    "# set xticks font size\n",
    "ax[1].tick_params(axis='y', labelsize=16)\n",
    "\n",
    "plt.tight_layout() \n",
    "\n",
    "fig.savefig('../../data/paper/fig_3.pdf', bbox_inches='tight')"
   ]
  },
  {
   "cell_type": "markdown",
   "metadata": {},
   "source": [
    "### Table 5"
   ]
  },
  {
   "cell_type": "code",
   "execution_count": null,
   "metadata": {},
   "outputs": [],
   "source": [
    "results = []\n",
    "os.makedirs(os.path.join(output_folder, '63', 'stackexchange'), exist_ok=True)\n",
    "for folder in os.listdir(os.path.join(source_output, '63', 'stackexchange')):\n",
    "    output = dict()\n",
    "    full_folder = os.path.join(source_output, '63', 'stackexchange', folder)\n",
    "    # search in df for the time\n",
    "    element = df[df['filename'] == full_folder[6:] + '/'].to_dict('records')[0]\n",
    "    output['name'] = {\n",
    "        '1': 'CX',\n",
    "        '2': '\\sqrt{SWAP}',\n",
    "        '3': 'Permutation',\n",
    "        '4': '\\sqrt{iSWAP}',\n",
    "        '5': 'Oracle',\n",
    "    }.get(folder, 'None')\n",
    "    output['time'] = element['time']\n",
    "    _, _, _, circ, _, _ = main_analysis(full_folder)\n",
    "    output['num_qubits'] = circ.circuit.num_qubits\n",
    "    output['expensive_count'] = circ.count\n",
    "    circ.circuit.qasm(formatted=True, filename=os.path.join(output_folder, '63', 'stackexchange', f'{folder}.qasm'))\n",
    "    results.append(output)\n",
    "\n",
    "output = pd.DataFrame(results)\n",
    "output.to_csv(os.path.join(output_folder, '63', 'table5.csv'), index=False)"
   ]
  }
 ],
 "metadata": {
  "kernelspec": {
   "display_name": "quantum",
   "language": "python",
   "name": "python3"
  },
  "language_info": {
   "codemirror_mode": {
    "name": "ipython",
    "version": 3
   },
   "file_extension": ".py",
   "mimetype": "text/x-python",
   "name": "python",
   "nbconvert_exporter": "python",
   "pygments_lexer": "ipython3",
   "version": "3.10.13"
  }
 },
 "nbformat": 4,
 "nbformat_minor": 2
}
